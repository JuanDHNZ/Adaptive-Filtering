{
  "nbformat": 4,
  "nbformat_minor": 0,
  "metadata": {
    "colab": {
      "name": "QKLMS.ipynb",
      "provenance": [],
      "collapsed_sections": []
    },
    "kernelspec": {
      "name": "python3",
      "display_name": "Python 3"
    }
  },
  "cells": [
    {
      "cell_type": "code",
      "metadata": {
        "id": "9hfhf-WqZW9k",
        "colab_type": "code",
        "colab": {}
      },
      "source": [
        "import pandas as pd\n",
        "import requests\n",
        "import numpy as np\n",
        "from sklearn.decomposition import FastICA\n",
        "from io import StringIO\n",
        "from scipy import signal\n",
        "from matplotlib import pyplot as plt\n",
        "from scipy.spatial.distance import cdist\n",
        "\n",
        "#Datos cargados desde drive\n",
        "orig_url='https://drive.google.com/file/d/1lPNRzlmfm0iT-HV8mLCIdzvt3zNpu5nN/view?usp=sharing'\n",
        "\n",
        "file_id = orig_url.split('/')[-2]\n",
        "dwn_url='https://drive.google.com/uc?export=download&id=' + file_id\n",
        "url = requests.get(dwn_url).text\n",
        "csv_raw = StringIO(url)\n",
        "sp500 = pd.read_csv(csv_raw)\n",
        "\n",
        "# Muestra de \n",
        "#probar de muestras atras\n",
        "d = sp500.close.iloc[-366:-1].to_numpy().reshape(-1,1)\n",
        "u1 = sp500.close.iloc[-367:-2].to_numpy().reshape(-1,1)\n",
        "u2 = sp500.close.iloc[-368:-3].to_numpy().reshape(-1,1)\n",
        "u3 = sp500.close.iloc[-369:-4].to_numpy().reshape(-1,1)\n",
        "u4 = sp500.close.iloc[-370:-5].to_numpy().reshape(-1,1)\n",
        "u5 = sp500.close.iloc[-371:-6].to_numpy().reshape(-1,1)\n",
        "u = np.concatenate((u1,u2,u3,u4,u5), axis=1)\n",
        "# plt.figure(figsize=(18, 6))\n",
        "# print(u.shape)\n",
        "# plt.plot(u)\n",
        "# plt.grid()\n",
        "# plt.show()"
      ],
      "execution_count": 0,
      "outputs": []
    },
    {
      "cell_type": "code",
      "metadata": {
        "id": "c9ZqpDkdoeYY",
        "colab_type": "code",
        "colab": {}
      },
      "source": [
        "class QKLMS:\n",
        "  def __init__(self, eta=0.9, epsilon=10, sigma=22):\n",
        "    self.eta = eta\n",
        "    self.epsilon = epsilon\n",
        "    self.sigma = sigma\n",
        "    self.CB = []\n",
        "    self.a_coef = []\n",
        "    self.CB_growth = []   \n",
        "    \n",
        "  def evaluate(self, u , d):\n",
        "    if u.shape[0]!=d.shape[0]:\n",
        "      raise ValueError('All of the input arguments must be of the same lenght')\n",
        "\n",
        "    #Inicializacion de Codebook y coeficientes a\n",
        "    self.CB.append(u[0,:])\n",
        "    self.a_coef.append(self.eta*d[0,:])\n",
        "    #Tamaños\n",
        "    N,D = u.shape\n",
        "    Nd,Dd = d.shape\n",
        "    y = np.empty((Nd,Dd))\n",
        "    i = 1\n",
        "    err = 0.1;\n",
        "    #Signa por regla de Silverman\n",
        "    # self.__optimalSigma(u)\n",
        "\n",
        "    while True:\n",
        "      yi,disti = self.__output(u[i,:].reshape(-1,D)) #Salida\n",
        "      # d_mahal = self.__dmahal(u[i,:].reshape(-1,D)) #Distancia de Mahalanobis\n",
        "      # self.__newEta(yi,err) #Nuevo eta\n",
        "      err = d[i] - yi # Error\n",
        "      #Cuantizacion\n",
        "      min_index = np.argmin(disti)\n",
        "      if disti[min_index] <= self.epsilon:\n",
        "        self.a_coef[min_index] =(self.a_coef[min_index] + self.eta*err).item()\n",
        "      else:\n",
        "        self.CB.append(u[i,:])\n",
        "        self.a_coef.append((self.eta*err).item())\n",
        "    \n",
        "      y[i-1] = yi\n",
        "      i+=1      \n",
        "      if(i == N-1):\n",
        "        return y\n",
        "\n",
        "  def __output(self,ui):\n",
        "    from scipy.spatial.distance import cdist\n",
        "    dist = cdist(np.asarray(self.CB), ui)\n",
        "    K = np.exp(-0.5*(dist**2)/(self.sigma**2))\n",
        "    y = K.T.dot(np.asarray(self.a_coef))\n",
        "    return [y,dist]\n",
        "\n",
        "  def __newEta(self, y, errp):\n",
        "    # y: Salida calculada\n",
        "    # errp: Error a priori \n",
        "    self.eta = (2*errp*y)/(errp**2 + 1)\n",
        "    return False\n",
        "\n",
        "  def __dmahal(self,ui): \n",
        "    # print(np.asarray(self.CB).shape, ui.shape)\n",
        "    # print(\"CB:\",np.asarray(self.CB).shape)\n",
        "    # print(\"Ui:\", ui.shape)\n",
        "    dist_m = cdist(np.asarray(self.CB), ui, metric='mahalanobis')\n",
        "    return dist_m\n",
        "\n",
        "  def __optimalSigma(self, u):\n",
        "    N_total, dims= u.shape\n",
        "    stdDev = np.std(u)\n",
        "    self.sigma = stdDev*(4/(N_total*(2*dims+1)))**(1/dims+4)\n",
        "    return False\n",
        "\n",
        "    "
      ],
      "execution_count": 0,
      "outputs": []
    },
    {
      "cell_type": "code",
      "metadata": {
        "id": "2em7EovDra2r",
        "colab_type": "code",
        "outputId": "ac0dbe38-9b4e-4eb5-8619-722a020a65a8",
        "colab": {
          "base_uri": "https://localhost:8080/",
          "height": 388
        }
      },
      "source": [
        "import numpy as np\n",
        "qklms = QKLMS(sigma=1000)\n",
        "y = qklms.evaluate(u,d)\n",
        "plt.figure(figsize=(18, 6))\n",
        "plt.grid()\n",
        "plt.plot(d, label=\"Salida deseada\")\n",
        "plt.plot(y[:-2], label=\"Salida estimada\")\n",
        "plt.legend()"
      ],
      "execution_count": 0,
      "outputs": [
        {
          "output_type": "execute_result",
          "data": {
            "text/plain": [
              "<matplotlib.legend.Legend at 0x7f62126729b0>"
            ]
          },
          "metadata": {
            "tags": []
          },
          "execution_count": 3
        },
        {
          "output_type": "display_data",
          "data": {
            "image/png": "[encoded data removed]",
            "text/plain": [
              "<Figure size 1296x432 with 1 Axes>"
            ]
          },
          "metadata": {
            "tags": [],
            "needs_background": "light"
          }
        }
      ]
    },
    {
      "cell_type": "code",
      "metadata": {
        "id": "3DZWDxol0C6h",
        "colab_type": "code",
        "outputId": "4d97662b-4a8c-4b7f-ea37-f6d0607edc5d",
        "colab": {
          "base_uri": "https://localhost:8080/",
          "height": 404
        }
      },
      "source": [
        "  plt.figure(figsize=(18, 6))\n",
        "plt.plot(np.asarray(qklms.CB_growth), label=\"Tamaño de Codebook\")\n",
        "plt.legend()\n",
        "print(\"a size: \", np.asarray(qklms.a_coef).shape)\n",
        "print(\"CB size: \", np.asarray(qklms.CB).shape)"
      ],
      "execution_count": 0,
      "outputs": [
        {
          "output_type": "stream",
          "text": [
            "a size:  (326,)\n",
            "CB size:  (326, 5)\n"
          ],
          "name": "stdout"
        },
        {
          "output_type": "display_data",
          "data": {
            "image/png": "[encoded data removed]",
            "text/plain": [
              "<Figure size 1296x432 with 1 Axes>"
            ]
          },
          "metadata": {
            "tags": [],
            "needs_background": "light"
          }
        }
      ]
    },
    {
      "cell_type": "code",
      "metadata": {
        "id": "mXL0z2KHh2-j",
        "colab_type": "code",
        "outputId": "856d5166-c963-40d9-9d9d-fd0d6a2d778c",
        "colab": {
          "base_uri": "https://localhost:8080/",
          "height": 167
        }
      },
      "source": [
        "plt.imshow()"
      ],
      "execution_count": 0,
      "outputs": [
        {
          "output_type": "error",
          "ename": "TypeError",
          "evalue": "ignored",
          "traceback": [
            "\u001b[0;31m---------------------------------------------------------------------------\u001b[0m",
            "\u001b[0;31mTypeError\u001b[0m                                 Traceback (most recent call last)",
            "\u001b[0;32m<ipython-input-5-e2a04aff946b>\u001b[0m in \u001b[0;36m<module>\u001b[0;34m()\u001b[0m\n\u001b[0;32m----> 1\u001b[0;31m \u001b[0mplt\u001b[0m\u001b[0;34m.\u001b[0m\u001b[0mimshow\u001b[0m\u001b[0;34m(\u001b[0m\u001b[0;34m)\u001b[0m\u001b[0;34m\u001b[0m\u001b[0;34m\u001b[0m\u001b[0m\n\u001b[0m",
            "\u001b[0;31mTypeError\u001b[0m: imshow() missing 1 required positional argument: 'X'"
          ]
        }
      ]
    },
    {
      "cell_type": "code",
      "metadata": {
        "id": "sqm0pr2JxnVk",
        "colab_type": "code",
        "colab": {}
      },
      "source": [
        "samplesNumber, dimensionality = u.shape\n",
        "stdDev = np.std(u)\n",
        "N_total = samplesNumber\n",
        "dims = 2\n",
        "OptSgm = stdDev*((4/(N_total*2*dims+1))**(1/dims+4)) \n",
        "OptSgm"
      ],
      "execution_count": 0,
      "outputs": []
    },
    {
      "cell_type": "code",
      "metadata": {
        "id": "A6GwT55F-Xjn",
        "colab_type": "code",
        "colab": {}
      },
      "source": [
        "((2*dims+1)**-1)"
      ],
      "execution_count": 0,
      "outputs": []
    },
    {
      "cell_type": "code",
      "metadata": {
        "id": "ygGnCGmVB5vk",
        "colab_type": "code",
        "colab": {}
      },
      "source": [
        ""
      ],
      "execution_count": 0,
      "outputs": []
    },
    {
      "cell_type": "code",
      "metadata": {
        "id": "WiDKku46CFuz",
        "colab_type": "code",
        "outputId": "44fb3bd9-77c5-4c04-cde4-4694770162ac",
        "colab": {
          "base_uri": "https://localhost:8080/",
          "height": 52
        }
      },
      "source": [
        "ax = np.random.rand(5,5)\n",
        "ab = np.random.rand(1,5)\n",
        "print(\"ax shape\", ax.shape, \"y ab shape \",ab.shape)\n",
        "\n",
        "dist = cdist(ax,ab,'mahalanobis')\n",
        "dist.shape"
      ],
      "execution_count": 0,
      "outputs": [
        {
          "output_type": "stream",
          "text": [
            "ax shape (5, 5) y ab shape  (1, 5)\n"
          ],
          "name": "stdout"
        },
        {
          "output_type": "execute_result",
          "data": {
            "text/plain": [
              "(5, 1)"
            ]
          },
          "metadata": {
            "tags": []
          },
          "execution_count": 7
        }
      ]
    },
    {
      "cell_type": "code",
      "metadata": {
        "id": "eZV4OxboUxkJ",
        "colab_type": "code",
        "colab": {}
      },
      "source": [
        "asd = ax-ab\n",
        "asd.shape\n"
      ],
      "execution_count": 0,
      "outputs": []
    },
    {
      "cell_type": "code",
      "metadata": {
        "id": "-VxTQWqKVDxV",
        "colab_type": "code",
        "colab": {}
      },
      "source": [
        "12/4/3"
      ],
      "execution_count": 0,
      "outputs": []
    },
    {
      "cell_type": "code",
      "metadata": {
        "id": "hAJzOjRxigGh",
        "colab_type": "code",
        "colab": {}
      },
      "source": [
        ""
      ],
      "execution_count": 0,
      "outputs": []
    }
  ]
}